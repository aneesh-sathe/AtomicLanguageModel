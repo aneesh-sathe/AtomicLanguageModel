{
 "cells": [
  {
   "cell_type": "code",
   "execution_count": 114,
   "metadata": {},
   "outputs": [],
   "source": [
    "import nbimporter\n",
    "import torch\n",
    "import tiktoken\n",
    "import matplotlib.pyplot as plt\n",
    "from matplotlib.ticker import MaxNLocator\n",
    "from GPT import GPTModel\n",
    "from text_processor import create_dataloader_v1\n"
   ]
  },
  {
   "cell_type": "code",
   "execution_count": 2,
   "metadata": {},
   "outputs": [],
   "source": [
    "GPT_CONFIG_124M = {\n",
    "    \"vocab_size\": 50257,\n",
    "    \"context_length\": 256,\n",
    "    \"emb_dim\": 768,\n",
    "    \"n_heads\": 12,\n",
    "    \"n_layers\": 12,\n",
    "    \"drop_rate\": 0.1,\n",
    "    \"qkv_bias\": False\n",
    "}"
   ]
  },
  {
   "cell_type": "code",
   "execution_count": 3,
   "metadata": {},
   "outputs": [],
   "source": [
    "tokenizer = tiktoken.get_encoding(\"gpt2\")\n",
    "\n",
    "def generate_out_tokens(model, idx, context_length, new_tokens):\n",
    "    for _ in range(new_tokens):\n",
    "        idx_cond = idx[:, -context_length:]\n",
    "        with torch.no_grad():\n",
    "            logits = model(idx_cond)\n",
    "        \n",
    "        logits = logits[:, -1, :]\n",
    "        probs = torch.softmax(logits, dim=-1)\n",
    "        idx_next = torch.argmax(probs, dim=-1, keepdim=True)\n",
    "\n",
    "        idx = torch.cat((idx, idx_next), dim=1)\n",
    "\n",
    "    return idx\n",
    "\n",
    "def text_to_token(text, tokenizer):\n",
    "    tokens = torch.tensor(tokenizer.encode(text, allowed_special={'<|endoftext|>'})).unsqueeze(0)\n",
    "    return tokens\n",
    "    \n",
    "\n",
    "def token_to_text(tokens, tokenizer):\n",
    "    text = tokenizer.decode(tokens.squeeze(0).tolist())\n",
    "    return text "
   ]
  },
  {
   "cell_type": "code",
   "execution_count": 137,
   "metadata": {},
   "outputs": [
    {
     "name": "stdout",
     "output_type": "stream",
     "text": [
      "total chars: 20503\n",
      "total tokens: 32017\n"
     ]
    }
   ],
   "source": [
    "with open(\"marathi.txt\", \"r\") as file:\n",
    "    r = file.read() \n",
    "\n",
    "data_chars = len(r)\n",
    "data_token = tokenizer.encode(r)\n",
    "print(f\"total chars: {data_chars}\")\n",
    "print(f\"total tokens: {len(data_token)}\")"
   ]
  },
  {
   "cell_type": "code",
   "execution_count": 138,
   "metadata": {},
   "outputs": [],
   "source": [
    "split_ratio = 0.85\n",
    "split_idx = int(data_chars * split_ratio)\n",
    "train_data = r[:split_idx]\n",
    "val_data = r[split_idx:]"
   ]
  },
  {
   "cell_type": "code",
   "execution_count": 139,
   "metadata": {},
   "outputs": [],
   "source": [
    "train_data_loader = create_dataloader_v1(txt=train_data, batch_size=2, max_length=GPT_CONFIG_124M[\"context_length\"], stride=GPT_CONFIG_124M[\"context_length\"], shuffle=True, drop_last=True, num_workers=0)\n",
    "\n",
    "val_data_loader = create_dataloader_v1(txt=val_data, batch_size=2, max_length=GPT_CONFIG_124M[\"context_length\"], stride=GPT_CONFIG_124M[\"context_length\"], shuffle=True, drop_last=False, num_workers=0)"
   ]
  },
  {
   "cell_type": "code",
   "execution_count": 140,
   "metadata": {},
   "outputs": [
    {
     "name": "stdout",
     "output_type": "stream",
     "text": [
      "training set:\n",
      "torch.Size([2, 256]) torch.Size([2, 256])\n",
      "torch.Size([2, 256]) torch.Size([2, 256])\n",
      "torch.Size([2, 256]) torch.Size([2, 256])\n",
      "torch.Size([2, 256]) torch.Size([2, 256])\n",
      "torch.Size([2, 256]) torch.Size([2, 256])\n",
      "torch.Size([2, 256]) torch.Size([2, 256])\n",
      "torch.Size([2, 256]) torch.Size([2, 256])\n",
      "torch.Size([2, 256]) torch.Size([2, 256])\n",
      "torch.Size([2, 256]) torch.Size([2, 256])\n",
      "torch.Size([2, 256]) torch.Size([2, 256])\n",
      "torch.Size([2, 256]) torch.Size([2, 256])\n",
      "torch.Size([2, 256]) torch.Size([2, 256])\n",
      "torch.Size([2, 256]) torch.Size([2, 256])\n",
      "torch.Size([2, 256]) torch.Size([2, 256])\n",
      "torch.Size([2, 256]) torch.Size([2, 256])\n",
      "torch.Size([2, 256]) torch.Size([2, 256])\n",
      "torch.Size([2, 256]) torch.Size([2, 256])\n",
      "torch.Size([2, 256]) torch.Size([2, 256])\n",
      "torch.Size([2, 256]) torch.Size([2, 256])\n",
      "torch.Size([2, 256]) torch.Size([2, 256])\n",
      "torch.Size([2, 256]) torch.Size([2, 256])\n",
      "torch.Size([2, 256]) torch.Size([2, 256])\n",
      "torch.Size([2, 256]) torch.Size([2, 256])\n",
      "torch.Size([2, 256]) torch.Size([2, 256])\n",
      "torch.Size([2, 256]) torch.Size([2, 256])\n",
      "torch.Size([2, 256]) torch.Size([2, 256])\n",
      "torch.Size([2, 256]) torch.Size([2, 256])\n",
      "torch.Size([2, 256]) torch.Size([2, 256])\n",
      "torch.Size([2, 256]) torch.Size([2, 256])\n",
      "torch.Size([2, 256]) torch.Size([2, 256])\n",
      "torch.Size([2, 256]) torch.Size([2, 256])\n",
      "torch.Size([2, 256]) torch.Size([2, 256])\n",
      "torch.Size([2, 256]) torch.Size([2, 256])\n",
      "torch.Size([2, 256]) torch.Size([2, 256])\n",
      "torch.Size([2, 256]) torch.Size([2, 256])\n",
      "torch.Size([2, 256]) torch.Size([2, 256])\n",
      "torch.Size([2, 256]) torch.Size([2, 256])\n",
      "torch.Size([2, 256]) torch.Size([2, 256])\n",
      "torch.Size([2, 256]) torch.Size([2, 256])\n",
      "torch.Size([2, 256]) torch.Size([2, 256])\n",
      "torch.Size([2, 256]) torch.Size([2, 256])\n",
      "torch.Size([2, 256]) torch.Size([2, 256])\n",
      "torch.Size([2, 256]) torch.Size([2, 256])\n",
      "torch.Size([2, 256]) torch.Size([2, 256])\n",
      "torch.Size([2, 256]) torch.Size([2, 256])\n",
      "torch.Size([2, 256]) torch.Size([2, 256])\n",
      "torch.Size([2, 256]) torch.Size([2, 256])\n",
      "torch.Size([2, 256]) torch.Size([2, 256])\n",
      "torch.Size([2, 256]) torch.Size([2, 256])\n",
      "torch.Size([2, 256]) torch.Size([2, 256])\n",
      "torch.Size([2, 256]) torch.Size([2, 256])\n",
      "torch.Size([2, 256]) torch.Size([2, 256])\n",
      "torch.Size([2, 256]) torch.Size([2, 256])\n",
      "validation set:\n",
      "torch.Size([2, 256]) torch.Size([2, 256])\n",
      "torch.Size([2, 256]) torch.Size([2, 256])\n",
      "torch.Size([2, 256]) torch.Size([2, 256])\n",
      "torch.Size([2, 256]) torch.Size([2, 256])\n",
      "torch.Size([2, 256]) torch.Size([2, 256])\n",
      "torch.Size([2, 256]) torch.Size([2, 256])\n",
      "torch.Size([2, 256]) torch.Size([2, 256])\n",
      "torch.Size([2, 256]) torch.Size([2, 256])\n",
      "torch.Size([2, 256]) torch.Size([2, 256])\n"
     ]
    }
   ],
   "source": [
    "print(\"training set:\")\n",
    "for x, y in train_data_loader:\n",
    "    print(x.shape, y.shape)\n",
    "print(\"validation set:\")\n",
    "for x, y in val_data_loader:\n",
    "    print(x.shape, y.shape)\n"
   ]
  },
  {
   "cell_type": "code",
   "execution_count": 141,
   "metadata": {},
   "outputs": [],
   "source": [
    "def cross_entropy(input_batch, target_batch, model, device):\n",
    "    input_batch = input_batch.to(device)\n",
    "    target_batch = target_batch.to(device)\n",
    "    logits = model(input_batch)\n",
    "    loss = torch.nn.functional.cross_entropy(logits.flatten(0,1), target_batch.flatten())\n",
    "\n",
    "    return loss\n",
    "\n",
    "def batch_loss(data_loader, model, device, num_batches=None):\n",
    "    total_loss = 0\n",
    "\n",
    "    if len(data_loader) == 0:\n",
    "        return float(\"nan\")\n",
    "    \n",
    "    elif num_batches is None:\n",
    "        num_batches = len(data_loader)\n",
    "\n",
    "    else:\n",
    "        num_batches = min(num_batches, len(data_loader))\n",
    "\n",
    "    for i, (input_batch, target_batch) in enumerate(data_loader):\n",
    "        if i < num_batches:\n",
    "            loss = cross_entropy(input_batch, target_batch, model, device)\n",
    "            total_loss += loss.item()\n",
    "\n",
    "        else:\n",
    "            break\n",
    "\n",
    "    return total_loss / num_batches\n",
    "\n"
   ]
  },
  {
   "cell_type": "code",
   "execution_count": 142,
   "metadata": {},
   "outputs": [
    {
     "name": "stdout",
     "output_type": "stream",
     "text": [
      "train loss: 11.05386752002644\n",
      "val loss: 11.054836061265734\n"
     ]
    }
   ],
   "source": [
    "device = \"mps\" if torch.mps.is_available() else \"cpu\"\n",
    "gpt = GPTModel(GPT_CONFIG_124M)\n",
    "gpt.to(device)\n",
    "\n",
    "with torch.no_grad():\n",
    "    train_loss = batch_loss(model=gpt, data_loader=train_data_loader, device=device)\n",
    "    val_loss = batch_loss(model=gpt, device=device, data_loader=val_data_loader)\n",
    "    print(f\"train loss: {train_loss}\")\n",
    "    print(f\"val loss: {val_loss}\")\n",
    "\n",
    "\n"
   ]
  },
  {
   "cell_type": "code",
   "execution_count": 143,
   "metadata": {},
   "outputs": [],
   "source": [
    "def sample_batch(model, tokenizer, start_context, device, cfg):\n",
    "    model.eval()\n",
    "    context_length = cfg[\"context_length\"]\n",
    "    tokens = text_to_token(start_context, tokenizer).to(device)\n",
    "    with torch.no_grad():\n",
    "        token_ids = generate_out_tokens(model=model, idx=tokens, context_length=context_length, new_tokens=50)\n",
    "    text = token_to_text(token_ids, tokenizer)\n",
    "    print(text.replace(\"/n\", \" \"))\n",
    "    model.train()\n",
    "\n",
    "\n",
    "def eval_model(model, train_data_loader, val_data_loader, device, eval_iter):\n",
    "    model.eval()\n",
    "    with torch.no_grad():\n",
    "        train_loss = batch_loss(train_data_loader, model, device, num_batches=eval_iter)\n",
    "        val_loss   = batch_loss(val_data_loader, model, device, num_batches=eval_iter)\n",
    "        model.train()\n",
    "\n",
    "    return train_loss, val_loss\n",
    "\n"
   ]
  },
  {
   "cell_type": "code",
   "execution_count": 144,
   "metadata": {},
   "outputs": [],
   "source": [
    "def gpt_trainer(model, train_loader, val_loader, optimizer, num_epochs, eval_freq, eval_iter, device, start_context, tokenizer, cfg):\n",
    "    train_losses, val_losses, track_tokens = [], [], []\n",
    "    tokens_seen, global_step = 0, -1\n",
    "\n",
    "    for epoch in range(num_epochs):\n",
    "        model.train()\n",
    "        for input_batch, target_batch in train_loader:\n",
    "            optimizer.zero_grad()\n",
    "            loss = cross_entropy(input_batch=input_batch, target_batch=target_batch, model=model, device=device)\n",
    "            loss.backward()\n",
    "            optimizer.step()\n",
    "            tokens_seen += input_batch.numel()\n",
    "            global_step += 1\n",
    "\n",
    "            if global_step % eval_freq == 0:\n",
    "                train_loss, val_loss = eval_model(model, train_loader, val_loader, device, eval_iter)\n",
    "                train_losses.append(train_loss)\n",
    "                val_losses.append(val_loss)\n",
    "                track_tokens.append(tokens_seen)\n",
    "\n",
    "\n",
    "                print(f\" epoch : {epoch}    step: {global_step}\")\n",
    "                print(f\" train loss: {train_loss}   val loss: {val_loss}\")\n",
    "\n",
    "\n",
    "        sample_batch(model, tokenizer, start_context, device, cfg)\n",
    "    \n",
    "    return train_losses, val_losses, track_tokens\n",
    "\n",
    "\n"
   ]
  },
  {
   "cell_type": "code",
   "execution_count": 145,
   "metadata": {},
   "outputs": [
    {
     "name": "stdout",
     "output_type": "stream",
     "text": [
      " epoch : 0    step: 0\n",
      " train loss: 6.843650245666504   val loss: 6.876763153076172\n",
      " epoch : 0    step: 10\n",
      " train loss: 2.726739835739136   val loss: 2.8254490375518797\n",
      " epoch : 0    step: 20\n",
      " train loss: 2.1602195262908936   val loss: 2.2236523151397707\n",
      " epoch : 0    step: 30\n",
      " train loss: 1.944844627380371   val loss: 2.2010612726211547\n",
      " epoch : 0    step: 40\n",
      " train loss: 1.9780524253845215   val loss: 2.010049271583557\n",
      " epoch : 0    step: 50\n",
      " train loss: 1.9339566230773926   val loss: 2.041202020645142\n",
      "मराठी भाषाररराररर्रारारररारररारररराररर\n",
      " epoch : 1    step: 60\n",
      " train loss: 1.9341874361038207   val loss: 2.11297345161438\n",
      " epoch : 1    step: 70\n",
      " train loss: 1.8797609567642213   val loss: 2.1017468929290772\n",
      " epoch : 1    step: 80\n",
      " train loss: 1.890576958656311   val loss: 2.05049524307251\n",
      " epoch : 1    step: 90\n",
      " train loss: 1.9752883195877076   val loss: 2.0335484981536864\n",
      " epoch : 1    step: 100\n",
      " train loss: 1.9626103401184083   val loss: 1.9953887701034545\n",
      "मराठी भाषारर्र्री आर्र्री सी स्र्र्र्र\n",
      " epoch : 2    step: 110\n",
      " train loss: 1.88773455619812   val loss: 2.1648465633392333\n",
      " epoch : 2    step: 120\n",
      " train loss: 1.9083392381668092   val loss: 2.077562141418457\n",
      " epoch : 2    step: 130\n",
      " train loss: 1.8832265377044677   val loss: 2.01758873462677\n",
      " epoch : 2    step: 140\n",
      " train loss: 1.8589265108108521   val loss: 2.0491636753082276\n",
      " epoch : 2    step: 150\n",
      " train loss: 1.8327235460281373   val loss: 2.06162371635437\n",
      "मराठी भाषारारारारारारारारारारारारारारारारार\n",
      " epoch : 3    step: 160\n",
      " train loss: 1.8388060331344604   val loss: 2.0914895057678224\n",
      " epoch : 3    step: 170\n",
      " train loss: 1.8618655443191527   val loss: 2.1368884563446047\n",
      " epoch : 3    step: 180\n",
      " train loss: 1.8731181859970092   val loss: 2.0704742193222048\n",
      " epoch : 3    step: 190\n",
      " train loss: 1.863821792602539   val loss: 2.031637096405029\n",
      " epoch : 3    step: 200\n",
      " train loss: 1.8431410312652587   val loss: 2.146187353134155\n",
      " epoch : 3    step: 210\n",
      " train loss: 1.822783350944519   val loss: 2.1199211835861207\n",
      "मराठी भाषारारार्रार्रारारारारारारारारार्र\n",
      " epoch : 4    step: 220\n",
      " train loss: 1.8111070394515991   val loss: 2.047812008857727\n",
      " epoch : 4    step: 230\n",
      " train loss: 1.7649000406265258   val loss: 2.1251107692718505\n",
      " epoch : 4    step: 240\n",
      " train loss: 1.7953283071517945   val loss: 2.105030584335327\n",
      " epoch : 4    step: 250\n",
      " train loss: 1.7737039089202882   val loss: 2.221972608566284\n",
      " epoch : 4    step: 260\n",
      " train loss: 1.7738531112670899   val loss: 2.2032851934432984\n",
      "मराठी भाषारारारारारारारारारारारारारारारारार\n",
      " epoch : 5    step: 270\n",
      " train loss: 1.7829961776733398   val loss: 2.101198172569275\n",
      " epoch : 5    step: 280\n",
      " train loss: 1.7911855936050416   val loss: 2.2477893114089964\n",
      " epoch : 5    step: 290\n",
      " train loss: 1.744593572616577   val loss: 2.032305598258972\n",
      " epoch : 5    step: 300\n",
      " train loss: 1.7198429107666016   val loss: 2.1014727354049683\n",
      " epoch : 5    step: 310\n",
      " train loss: 1.7614902973175048   val loss: 2.118788313865662\n",
      "मराठी भाषारारारारारारारारारारारारारारारारार\n",
      " epoch : 6    step: 320\n",
      " train loss: 1.6754491329193115   val loss: 2.120494747161865\n",
      " epoch : 6    step: 330\n",
      " train loss: 1.7243201971054076   val loss: 2.250261735916138\n",
      " epoch : 6    step: 340\n",
      " train loss: 1.7139193773269654   val loss: 2.271825838088989\n",
      " epoch : 6    step: 350\n",
      " train loss: 1.7051724195480347   val loss: 2.1787618160247804\n",
      " epoch : 6    step: 360\n",
      " train loss: 1.6729212284088135   val loss: 2.268371105194092\n",
      " epoch : 6    step: 370\n",
      " train loss: 1.672737979888916   val loss: 2.265593957901001\n",
      "मराठी भाषाल मिल्राराििरािराििरारािल्िरा�\n",
      " epoch : 7    step: 380\n",
      " train loss: 1.5782377004623414   val loss: 2.366968536376953\n",
      " epoch : 7    step: 390\n",
      " train loss: 1.6533528566360474   val loss: 2.2100223541259765\n",
      " epoch : 7    step: 400\n",
      " train loss: 1.5995986461639404   val loss: 2.196161723136902\n",
      " epoch : 7    step: 410\n",
      " train loss: 1.6213600873947143   val loss: 2.256781053543091\n",
      " epoch : 7    step: 420\n",
      " train loss: 1.6147987842559814   val loss: 2.3089601039886474\n",
      "मराठी भाषा मरारारारा मरारारारारारारारारारारा�\n",
      " epoch : 8    step: 430\n",
      " train loss: 1.5371954441070557   val loss: 2.3497061729431152\n",
      " epoch : 8    step: 440\n",
      " train loss: 1.5054168462753297   val loss: 2.283756685256958\n",
      " epoch : 8    step: 450\n",
      " train loss: 1.5418947696685792   val loss: 2.2305399894714357\n",
      " epoch : 8    step: 460\n",
      " train loss: 1.5474899530410766   val loss: 2.2869059562683107\n",
      " epoch : 8    step: 470\n",
      " train loss: 1.4954493999481202   val loss: 2.234545040130615\n",
      "मराठी भाषारानारीरारारारावारी मरारारारारारा�\n",
      " epoch : 9    step: 480\n",
      " train loss: 1.4993454694747925   val loss: 2.2688552379608153\n",
      " epoch : 9    step: 490\n",
      " train loss: 1.5044737577438354   val loss: 2.5500505924224854\n",
      " epoch : 9    step: 500\n",
      " train loss: 1.4694326400756836   val loss: 2.4230297088623045\n",
      " epoch : 9    step: 510\n",
      " train loss: 1.4394617080688477   val loss: 2.4667475700378416\n",
      " epoch : 9    step: 520\n",
      " train loss: 1.4960084676742553   val loss: 2.323635768890381\n",
      "मराठी भाषा माराल्रारारारा मरारारारारारारारार\n"
     ]
    }
   ],
   "source": [
    "torch.manual_seed(123)\n",
    "gpt = GPTModel(GPT_CONFIG_124M)\n",
    "gpt.to(device)\n",
    "optimizer = torch.optim.AdamW(gpt.parameters(), weight_decay=0.1, lr=0.0004)\n",
    "start_context = \"मराठी भाषा\"\n",
    "num_epochs = 10\n",
    "\n",
    "tl, vl, ts = gpt_trainer(model=gpt, train_loader=train_data_loader, val_loader=val_data_loader, optimizer=optimizer, num_epochs=num_epochs, eval_freq=10, eval_iter=5, device=device, start_context=start_context, tokenizer=tokenizer, cfg=GPT_CONFIG_124M)"
   ]
  },
  {
   "cell_type": "code",
   "execution_count": null,
   "metadata": {},
   "outputs": [],
   "source": [
    "\n"
   ]
  },
  {
   "cell_type": "code",
   "execution_count": 134,
   "metadata": {},
   "outputs": [],
   "source": [
    "def plot_metrics(tokens_seen, train_loss, val_loss, epochs):\n",
    "    fig, ax1 = plt.subplots(figsize=(5,3))\n",
    "    ax1.plot(epochs, train_loss, label=\"training loss\")\n",
    "    ax1.plot(epochs, val_loss, linestyle=\"-.\", label=\"validation loss\")\n",
    "    ax1.set_xlabel(\"epochs\")\n",
    "    ax1.set_ylabel(\"losses\")\n",
    "    ax1.legend(loc=\"upper right\")\n",
    "\n",
    "    ax1.xaxis.set_major_locator(MaxNLocator(integer=True))\n",
    "    ax2 = ax1.twiny()\n",
    "    ax2.plot(tokens_seen, train_loss, alpha=0)\n",
    "    ax2.set_xlabel(\"tokens seen\")\n",
    "\n",
    "    fig.tight_layout()\n",
    "    plt.figure(dpi=500)\n",
    "    plt.show()"
   ]
  },
  {
   "cell_type": "code",
   "execution_count": 135,
   "metadata": {},
   "outputs": [
    {
     "data": {
      "image/png": "[encoded data removed]",
      "text/plain": [
       "<Figure size 500x300 with 2 Axes>"
      ]
     },
     "metadata": {},
     "output_type": "display_data"
    },
    {
     "data": {
      "text/plain": [
       "<Figure size 3200x2400 with 0 Axes>"
      ]
     },
     "metadata": {},
     "output_type": "display_data"
    }
   ],
   "source": [
    "epochs = torch.linspace(0, num_epochs, len(tl))\n",
    "plot_metrics(ts, tl, vl, epochs)"
   ]
  },
  {
   "cell_type": "code",
   "execution_count": null,
   "metadata": {},
   "outputs": [
    {
     "name": "stdout",
     "output_type": "stream",
     "text": [
      "tensor(10.6147, grad_fn=<NllLossBackward0>)\n",
      "tensor(10.6147, grad_fn=<NegBackward0>)\n"
     ]
    }
   ],
   "source": [
    "'''manual NLL Loss calculation'''\n",
    "t = text_to_token(start_context, tokenizer)\n",
    "x = t[:, :-1]\n",
    "y = t[:, 1:]\n",
    "\n",
    "logits = gpt(x)\n",
    "logits = logits.squeeze(0)\n",
    "target = y.squeeze(0)\n",
    "\n",
    "loss = torch.nn.functional.cross_entropy(logits, target)\n",
    "print(loss)\n",
    "\n",
    "log_probs = torch.nn.functional.log_softmax(logits, dim=-1)\n",
    "nll = -torch.mean(log_probs[range(target.shape[0]), target])\n",
    "print(nll)\n",
    "\n"
   ]
  }
 ],
 "metadata": {
  "kernelspec": {
   "display_name": ".venv",
   "language": "python",
   "name": "python3"
  },
  "language_info": {
   "codemirror_mode": {
    "name": "ipython",
    "version": 3
   },
   "file_extension": ".py",
   "mimetype": "text/x-python",
   "name": "python",
   "nbconvert_exporter": "python",
   "pygments_lexer": "ipython3",
   "version": "3.10.17"
  }
 },
 "nbformat": 4,
 "nbformat_minor": 2
}
