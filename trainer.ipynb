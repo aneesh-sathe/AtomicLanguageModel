{
 "cells": [
  {
   "cell_type": "code",
   "execution_count": 87,
   "metadata": {},
   "outputs": [],
   "source": [
    "import nbimporter\n",
    "import torch\n",
    "import tiktoken\n",
    "from GPT import GPTModel\n",
    "from text_processor import create_dataloader_v1\n"
   ]
  },
  {
   "cell_type": "code",
   "execution_count": 88,
   "metadata": {},
   "outputs": [],
   "source": [
    "GPT_CONFIG_124M = {\n",
    "    \"vocab_size\": 50257,\n",
    "    \"context_length\": 256,\n",
    "    \"emb_dim\": 768,\n",
    "    \"n_heads\": 12,\n",
    "    \"n_layers\": 12,\n",
    "    \"drop_rate\": 0.1,\n",
    "    \"qkv_bias\": False\n",
    "}"
   ]
  },
  {
   "cell_type": "code",
   "execution_count": 99,
   "metadata": {},
   "outputs": [],
   "source": [
    "tokenizer = tiktoken.get_encoding(\"gpt2\")\n",
    "\n",
    "def generate_out_tokens(model, idx, context_length, new_tokens):\n",
    "    for _ in range(new_tokens):\n",
    "        idx_cond = idx[:, -context_length:]\n",
    "        with torch.no_grad():\n",
    "            logits = model(idx_cond)\n",
    "        \n",
    "        logits = logits[:, -1, :]\n",
    "        probs = torch.softmax(logits, dim=-1)\n",
    "        idx_next = torch.argmax(probs, dim=-1, keepdim=True)\n",
    "\n",
    "        idx = torch.cat((idx, idx_next), dim=1)\n",
    "\n",
    "    return idx\n",
    "\n",
    "def text_to_token(text, tokenizer):\n",
    "    tokens = torch.tensor(tokenizer.encode(text, allowed_special={'<|endoftext|>'})).unsqueeze(0)\n",
    "    return tokens\n",
    "    \n",
    "\n",
    "def token_to_text(tokens, tokenizer):\n",
    "    text = tokenizer.decode(tokens.squeeze(0).tolist())\n",
    "    return text "
   ]
  },
  {
   "cell_type": "code",
   "execution_count": 100,
   "metadata": {},
   "outputs": [
    {
     "name": "stdout",
     "output_type": "stream",
     "text": [
      "total chars: 20479\n",
      "total tokens: 5145\n"
     ]
    }
   ],
   "source": [
    "with open(\"the-verdict.txt\", \"r\") as file:\n",
    "    r = file.read() \n",
    "\n",
    "data_chars = len(r)\n",
    "data_token = tokenizer.encode(r)\n",
    "print(f\"total chars: {data_chars}\")\n",
    "print(f\"total tokens: {len(data_token)}\")"
   ]
  },
  {
   "cell_type": "code",
   "execution_count": 101,
   "metadata": {},
   "outputs": [],
   "source": [
    "split_ratio = 0.85\n",
    "split_idx = int(data_chars * split_ratio)\n",
    "train_data = r[:split_idx]\n",
    "val_data = r[split_idx:]"
   ]
  },
  {
   "cell_type": "code",
   "execution_count": 102,
   "metadata": {},
   "outputs": [],
   "source": [
    "train_data_loader = create_dataloader_v1(txt=train_data, batch_size=2, max_length=GPT_CONFIG_124M[\"context_length\"], stride=GPT_CONFIG_124M[\"context_length\"], shuffle=True, drop_last=True, num_workers=0)\n",
    "\n",
    "val_data_loader = create_dataloader_v1(txt=val_data, batch_size=2, max_length=GPT_CONFIG_124M[\"context_length\"], stride=GPT_CONFIG_124M[\"context_length\"], shuffle=True, drop_last=False, num_workers=0)"
   ]
  },
  {
   "cell_type": "code",
   "execution_count": 103,
   "metadata": {},
   "outputs": [
    {
     "name": "stdout",
     "output_type": "stream",
     "text": [
      "training set:\n",
      "torch.Size([2, 256]) torch.Size([2, 256])\n",
      "torch.Size([2, 256]) torch.Size([2, 256])\n",
      "torch.Size([2, 256]) torch.Size([2, 256])\n",
      "torch.Size([2, 256]) torch.Size([2, 256])\n",
      "torch.Size([2, 256]) torch.Size([2, 256])\n",
      "torch.Size([2, 256]) torch.Size([2, 256])\n",
      "torch.Size([2, 256]) torch.Size([2, 256])\n",
      "torch.Size([2, 256]) torch.Size([2, 256])\n",
      "validation set:\n",
      "torch.Size([2, 256]) torch.Size([2, 256])\n",
      "torch.Size([1, 256]) torch.Size([1, 256])\n"
     ]
    }
   ],
   "source": [
    "print(\"training set:\")\n",
    "for x, y in train_data_loader:\n",
    "    print(x.shape, y.shape)\n",
    "print(\"validation set:\")\n",
    "for x, y in val_data_loader:\n",
    "    print(x.shape, y.shape)"
   ]
  },
  {
   "cell_type": "code",
   "execution_count": 104,
   "metadata": {},
   "outputs": [],
   "source": [
    "def cross_entropy(input_batch, target_batch, model, device):\n",
    "    input_batch = input_batch.to(device)\n",
    "    target_batch = target_batch.to(device)\n",
    "    logits = model(input_batch)\n",
    "    loss = torch.nn.functional.cross_entropy(logits.flatten(0,1), target_batch.flatten())\n",
    "\n",
    "    return loss\n",
    "\n",
    "def batch_loss(data_loader, model, device, num_batches=None):\n",
    "    total_loss = 0\n",
    "\n",
    "    if len(data_loader) == 0:\n",
    "        return float(\"nan\")\n",
    "    \n",
    "    elif num_batches is None:\n",
    "        num_batches = len(data_loader)\n",
    "\n",
    "    else:\n",
    "        num_batches = min(num_batches, len(data_loader))\n",
    "\n",
    "    for i, (input_batch, target_batch) in enumerate(data_loader):\n",
    "        if i < num_batches:\n",
    "            loss = cross_entropy(input_batch, target_batch, model, device)\n",
    "            total_loss += loss.item()\n",
    "\n",
    "        else:\n",
    "            break\n",
    "\n",
    "    return total_loss / num_batches\n",
    "\n"
   ]
  },
  {
   "cell_type": "code",
   "execution_count": 105,
   "metadata": {},
   "outputs": [
    {
     "name": "stdout",
     "output_type": "stream",
     "text": [
      "train loss: 10.980239629745483\n",
      "val loss: 10.933394432067871\n"
     ]
    }
   ],
   "source": [
    "device = \"mps\" if torch.mps.is_available() else \"cpu\"\n",
    "gpt = GPTModel(GPT_CONFIG_124M)\n",
    "gpt.to(device)\n",
    "\n",
    "with torch.no_grad():\n",
    "    train_loss = batch_loss(model=gpt, data_loader=train_data_loader, device=device)\n",
    "    val_loss = batch_loss(model=gpt, device=device, data_loader=val_data_loader)\n",
    "    print(f\"train loss: {train_loss}\")\n",
    "    print(f\"val loss: {val_loss}\")\n",
    "\n",
    "\n"
   ]
  },
  {
   "cell_type": "code",
   "execution_count": 106,
   "metadata": {},
   "outputs": [],
   "source": [
    "def sample_batch(model, tokenizer, start_context, device, cfg):\n",
    "    model.eval()\n",
    "    context_length = cfg[\"context_length\"]\n",
    "    tokens = text_to_token(start_context, tokenizer).to(device)\n",
    "    with torch.no_grad():\n",
    "        token_ids = generate_out_tokens(model=model, idx=tokens, context_length=context_length, new_tokens=50)\n",
    "    text = token_to_text(token_ids, tokenizer)\n",
    "    print(text.replace(\"/n\", \" \"))\n",
    "    model.train()\n",
    "\n",
    "\n",
    "def eval_model(model, train_data_loader, val_data_loader, device, eval_iter):\n",
    "    model.eval()\n",
    "    with torch.no_grad():\n",
    "        train_loss = batch_loss(train_data_loader, model, device, num_batches=eval_iter)\n",
    "        val_loss   = batch_loss(val_data_loader, model, device, num_batches=eval_iter)\n",
    "        model.train()\n",
    "\n",
    "    return train_loss, val_loss\n",
    "\n"
   ]
  },
  {
   "cell_type": "code",
   "execution_count": 113,
   "metadata": {},
   "outputs": [],
   "source": [
    "def gpt_trainer(model, train_loader, val_loader, optimizer, num_epochs, eval_freq, eval_iter, device, start_context, tokenizer, cfg):\n",
    "    train_losses, val_losses, track_tokens = [], [], []\n",
    "    tokens_seen, global_step = 0, -1\n",
    "\n",
    "    for epoch in range(num_epochs):\n",
    "        model.train()\n",
    "        for input_batch, target_batch in train_loader:\n",
    "            optimizer.zero_grad()\n",
    "            loss = cross_entropy(input_batch=input_batch, target_batch=target_batch, model=model, device=device)\n",
    "            loss.backward()\n",
    "            optimizer.step()\n",
    "            tokens_seen += input_batch.numel()\n",
    "            global_step += 1\n",
    "\n",
    "            if global_step % eval_freq == 0:\n",
    "                train_loss, val_loss = eval_model(model, train_loader, val_loader, device, eval_iter)\n",
    "                train_losses.append(train_loss)\n",
    "                val_losses.append(val_loss)\n",
    "                track_tokens.append(tokens_seen)\n",
    "\n",
    "\n",
    "                print(f\" epoch : {epoch}    step: {global_step}\")\n",
    "                print(f\" train loss: {train_loss}   val loss: {val_loss}\")\n",
    "\n",
    "\n",
    "        sample_batch(model, tokenizer, start_context, device, cfg)\n",
    "    \n",
    "    return train_losses, val_losses, track_tokens\n",
    "\n",
    "\n"
   ]
  },
  {
   "cell_type": "code",
   "execution_count": 114,
   "metadata": {},
   "outputs": [
    {
     "name": "stdout",
     "output_type": "stream",
     "text": [
      " epoch : 0    step: 0\n",
      " train loss: 9.828278732299804   val loss: 10.01657772064209\n",
      " epoch : 0    step: 2\n",
      " train loss: 8.939193725585938   val loss: 9.13503646850586\n",
      " epoch : 0    step: 4\n",
      " train loss: 8.333987045288087   val loss: 8.565227031707764\n",
      " epoch : 0    step: 6\n",
      " train loss: 7.841167831420899   val loss: 7.980482339859009\n",
      "hello, my name is the, the the the the the the the,, the the the,,, the the the, the,, the the,, the,, the the the, the the the,, the, the the,,,, the,\n"
     ]
    }
   ],
   "source": [
    "torch.manual_seed(123)\n",
    "gpt = GPTModel(GPT_CONFIG_124M)\n",
    "gpt.to(device)\n",
    "optimizer = torch.optim.AdamW(gpt.parameters(), weight_decay=0.1, lr=0.0004)\n",
    "start_context = \"hello, my name is\"\n",
    "num_epochs = 1\n",
    "\n",
    "tl, vl, ts = gpt_trainer(model=gpt, train_loader=train_data_loader, val_loader=val_data_loader, optimizer=optimizer, num_epochs=num_epochs, eval_freq=2, eval_iter=5, device=device, start_context=start_context, tokenizer=tokenizer, cfg=GPT_CONFIG_124M)"
   ]
  },
  {
   "cell_type": "code",
   "execution_count": null,
   "metadata": {},
   "outputs": [],
   "source": []
  }
 ],
 "metadata": {
  "kernelspec": {
   "display_name": ".venv",
   "language": "python",
   "name": "python3"
  },
  "language_info": {
   "codemirror_mode": {
    "name": "ipython",
    "version": 3
   },
   "file_extension": ".py",
   "mimetype": "text/x-python",
   "name": "python",
   "nbconvert_exporter": "python",
   "pygments_lexer": "ipython3",
   "version": "3.10.17"
  }
 },
 "nbformat": 4,
 "nbformat_minor": 2
}
