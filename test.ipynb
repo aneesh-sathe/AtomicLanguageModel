{
 "cells": [
  {
   "cell_type": "code",
   "execution_count": 1,
   "metadata": {},
   "outputs": [
    {
     "name": "stderr",
     "output_type": "stream",
     "text": [
      "/Users/aneeshsathe/Desktop/Projects/atomic-lm/.venv/lib/python3.10/site-packages/tqdm/auto.py:21: TqdmWarning: IProgress not found. Please update jupyter and ipywidgets. See https://ipywidgets.readthedocs.io/en/stable/user_install.html\n",
      "  from .autonotebook import tqdm as notebook_tqdm\n"
     ]
    }
   ],
   "source": [
    "from transformers import AutoTokenizer"
   ]
  },
  {
   "cell_type": "code",
   "execution_count": 2,
   "metadata": {},
   "outputs": [],
   "source": [
    "tokenizer = AutoTokenizer.from_pretrained(\n",
    "    \"ai4bharat/IndicBART\", do_lower_case=False, use_fast=False, keep_accents=True\n",
    ")"
   ]
  },
  {
   "cell_type": "code",
   "execution_count": 3,
   "metadata": {},
   "outputs": [],
   "source": [
    "with open(\"dataset/marathi_pretrain.txt\", \"r\") as f:\n",
    "    r = f.read()\n"
   ]
  },
  {
   "cell_type": "code",
   "execution_count": 13,
   "metadata": {},
   "outputs": [
    {
     "data": {
      "text/plain": [
       "'[CLS] खरे तर मी मूळचा मुंबईचाच, तोही गिरगावातला. गिरगावचे सांस्कृतिक, सामाजिक जाणिवांचे संस्कार जपत आणि जोपासत मी लहानाचा मोठा झालो. त्यामुळेच ‘मी गिरगावकर’ म्हणताना मला सार्थ अभिमान वाटतो. जवळजवळ १०० वर्षांपूर्वी आमचे कुटुंब गिरगावात, बोरभट लेनमधील एका इमारतीत राहायला आले आणि आम्ही गिरगावकर झालो. माझे गाव गिरगाव असे म्हणत असलो तरी माझा जन्म मात्र कारवारला, आईच्या माहेरी झाला. भावंडात मी सर्वात मोठा असल्यामुळे सगळ्यांना सांभाळून घेण्याची जबाबदारी सुरुवातीपासूनच माझ्यावर पडली होती. माझे पहिली ते सातवीपर्यंतचे शिक्षण मुगभाट प्रायमरी शाळा आणि गिरगाव अप्पर प्रायमरी शाळेत झाले. त्याकाळी प्रतिष्ठेची मानली जाणारी व्हर्नाक्युलर फायनल परीक्षा मी चांगल्या गुणांनी उत्तीर्ण झालो. पुढच्या शिक्षणासाठी मी आर्यन शाळेत दाखल झालो. शाळेत असणाऱ्या वेगवेगळ्या सुविधा आणि मनापासून शिकवणारे शिक्षक, यामुळे मला शिक्षणात अधिक गोडी वाटू लागली. त्यावेळचे शिक्षक विद्यार्थ्यांना स्वत:च्या मुलासारखे वागवत आणि शिकवीत असत. प्रत्येक विद्यार्थ्याला प्रत्येक विषय समजला पाहीजे, त्याने उच्च विद्याविभूषित व्हायला पाहिजे यासाठी ते निर्व्याज प्रेम देत आणि नि:स्वार्थी भावनेने शिक्षण देत. आमच्याकडे वडिलोपार्जित इस्टेट नव्हती की स्वत:च्या मालकीचे घरही नव्हते. जे काही थोडेफार पूर्वजांचे होते ते भारत-पाक फाळणीत हातातून गेले. एकटा माणूस कमवणार आणि सात माणसे खाणार अशी आमची स्थिती होती. भावांचे शिक्षण, आणि घर चालविताना वडिलांची होणारी ओढाचाण पाहून मी नोकरी करायचे ठरविले. मँट्रिक मला 67% गुण मिळाले होते. त्या मार्कांवर 16 जूलै 1964 रोजी रिझर्व्ह बँकेत ‘कॉईन आणि नोट एक्झामिनर’ म्हणून नोकरीला लागलो. नोकरी स्वीकारली तरी मनातील शिकण्याची इच्छा कमी झाली नाही. त्याकाळी नोकरी करून मुंबई विद्यापीठाची पदवी संपादन करण्यासाठी अर्धावेळ कॉलेजमधून 6 वर्षांचा कोर्स होता. मी 1964 साली रूपारेल महाविद्यालयात सकाळच्या सत्रात प्रवेश घेतला आणि 6 वर्षांनंतर 1970 साली अर्थशास्त्र विषय घेऊन मी पदवीधर झालो. माझ्या विचारांच्या जडणघडणीला घरचे वातावरण, शाळा-कॉलेजातील शिक्षक यांचा जितका प्रभाव आहे, तितकाच प्रभाव पुस्तकांचा आणि ग्रथांचाही आहे. शाळेपासूनच मी छोट्या-मोठ्या स्पर्धांमध्ये भाग घेत होतो. गिरगावातील उत्सव-सोहळे आणि उपक्रमात सहभागी होत असल्या[SEP]'"
      ]
     },
     "execution_count": 13,
     "metadata": {},
     "output_type": "execute_result"
    }
   ],
   "source": [
    "t = r[:2000]\n",
    "tokenizer.decode(tokenizer.encode(t), use_special_tokens=False)"
   ]
  },
  {
   "cell_type": "code",
   "execution_count": 16,
   "metadata": {},
   "outputs": [
    {
     "data": {
      "text/plain": [
       "AlbertTokenizer(name_or_path='ai4bharat/IndicBART', vocab_size=64000, model_max_length=1000000000000000019884624838656, is_fast=False, padding_side='right', truncation_side='right', special_tokens={'bos_token': '[CLS]', 'eos_token': '[SEP]', 'unk_token': '<unk>', 'sep_token': '[SEP]', 'pad_token': '<pad>', 'cls_token': '[CLS]', 'mask_token': '[MASK]', 'additional_special_tokens': ['<s>', '</s>', '<2as>', '<2bn>', '<2en>', '<2gu>', '<2hi>', '<2kn>', '<2ml>', '<2mr>', '<2or>', '<2pa>', '<2ta>', '<2te>']}, clean_up_tokenization_spaces=False, added_tokens_decoder={\n",
       "\t0: AddedToken(\"<pad>\", rstrip=False, lstrip=False, single_word=False, normalized=False, special=True),\n",
       "\t1: AddedToken(\"<unk>\", rstrip=False, lstrip=False, single_word=False, normalized=False, special=True),\n",
       "\t2: AddedToken(\"[CLS]\", rstrip=False, lstrip=False, single_word=False, normalized=False, special=True),\n",
       "\t3: AddedToken(\"[SEP]\", rstrip=False, lstrip=False, single_word=False, normalized=False, special=True),\n",
       "\t4: AddedToken(\"[MASK]\", rstrip=False, lstrip=True, single_word=False, normalized=True, special=True),\n",
       "\t64000: AddedToken(\"<s>\", rstrip=False, lstrip=False, single_word=False, normalized=False, special=True),\n",
       "\t64001: AddedToken(\"</s>\", rstrip=False, lstrip=False, single_word=False, normalized=False, special=True),\n",
       "\t64002: AddedToken(\"<2as>\", rstrip=False, lstrip=False, single_word=False, normalized=False, special=True),\n",
       "\t64003: AddedToken(\"<2bn>\", rstrip=False, lstrip=False, single_word=False, normalized=False, special=True),\n",
       "\t64004: AddedToken(\"<2en>\", rstrip=False, lstrip=False, single_word=False, normalized=False, special=True),\n",
       "\t64005: AddedToken(\"<2gu>\", rstrip=False, lstrip=False, single_word=False, normalized=False, special=True),\n",
       "\t64006: AddedToken(\"<2hi>\", rstrip=False, lstrip=False, single_word=False, normalized=False, special=True),\n",
       "\t64007: AddedToken(\"<2kn>\", rstrip=False, lstrip=False, single_word=False, normalized=False, special=True),\n",
       "\t64008: AddedToken(\"<2ml>\", rstrip=False, lstrip=False, single_word=False, normalized=False, special=True),\n",
       "\t64009: AddedToken(\"<2mr>\", rstrip=False, lstrip=False, single_word=False, normalized=False, special=True),\n",
       "\t64010: AddedToken(\"<2or>\", rstrip=False, lstrip=False, single_word=False, normalized=False, special=True),\n",
       "\t64011: AddedToken(\"<2pa>\", rstrip=False, lstrip=False, single_word=False, normalized=False, special=True),\n",
       "\t64012: AddedToken(\"<2ta>\", rstrip=False, lstrip=False, single_word=False, normalized=False, special=True),\n",
       "\t64013: AddedToken(\"<2te>\", rstrip=False, lstrip=False, single_word=False, normalized=False, special=True),\n",
       "}\n",
       ")"
      ]
     },
     "execution_count": 16,
     "metadata": {},
     "output_type": "execute_result"
    }
   ],
   "source": []
  },
  {
   "cell_type": "code",
   "execution_count": null,
   "metadata": {},
   "outputs": [],
   "source": []
  }
 ],
 "metadata": {
  "kernelspec": {
   "display_name": ".venv",
   "language": "python",
   "name": "python3"
  },
  "language_info": {
   "codemirror_mode": {
    "name": "ipython",
    "version": 3
   },
   "file_extension": ".py",
   "mimetype": "text/x-python",
   "name": "python",
   "nbconvert_exporter": "python",
   "pygments_lexer": "ipython3",
   "version": "3.10.17"
  }
 },
 "nbformat": 4,
 "nbformat_minor": 2
}
